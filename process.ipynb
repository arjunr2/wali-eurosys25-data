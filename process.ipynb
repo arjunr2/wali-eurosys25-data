{
 "cells": [
  {
   "cell_type": "code",
   "execution_count": 1,
   "id": "6b8029bf",
   "metadata": {},
   "outputs": [],
   "source": [
    "import numpy as np\n",
    "import matplotlib.pyplot as plt\n",
    "import sys\n",
    "import math\n",
    "from pathlib import Path\n",
    "from collections import Counter\n",
    "import re\n",
    "import json"
   ]
  },
  {
   "cell_type": "markdown",
   "id": "d3e591f5",
   "metadata": {},
   "source": [
    "# Syscall By Arch"
   ]
  },
  {
   "cell_type": "code",
   "execution_count": 4,
   "id": "1cf87304",
   "metadata": {},
   "outputs": [
    {
     "name": "stdout",
     "output_type": "stream",
     "text": [
      "{'x86_64': {'common': 306, 'unique': 56}, 'rv64': {'common': 306, 'unique': 2}, 'aarch64': {'common': 306, 'unique': 0}}\n"
     ]
    }
   ],
   "source": [
    "num_x86_calls = 608 - 247 + 1\n",
    "\n",
    "unique_calls = {\n",
    "    \"x86_64\": 56,\n",
    "    \"aarch64\": 0,\n",
    "    \"rv64\": 2\n",
    "}\n",
    "\n",
    "common_calls = num_x86_calls - unique_calls[\"x86_64\"]\n",
    "\n",
    "archs = [\"x86_64\", \"rv64\", \"aarch64\"]\n",
    "\n",
    "syscall_archs = {}\n",
    "\n",
    "for arch in archs:\n",
    "    syscall_archs[arch] = {\n",
    "        \"common\": common_calls,\n",
    "        \"unique\": unique_calls[arch]\n",
    "    }\n",
    "print(syscall_archs)"
   ]
  },
  {
   "cell_type": "code",
   "execution_count": 5,
   "id": "4a66de9d",
   "metadata": {},
   "outputs": [
    {
     "name": "stdout",
     "output_type": "stream",
     "text": [
      "['x86_64', 'rv64', 'aarch64'] [306, 306, 306] green [0, 0, 0] common\n",
      "['x86_64', 'rv64', 'aarch64'] [56, 2, 0] orange [306, 306, 306] arch-specific\n"
     ]
    },
    {
     "data": {
      "text/plain": [
       "<matplotlib.legend.Legend at 0x7fc37cb7deb0>"
      ]
     },
     "execution_count": 5,
     "metadata": {},
     "output_type": "execute_result"
    },
    {
     "data": {
      "image/png": "[encoded data removed]",
      "text/plain": [
       "<Figure size 432x108 with 1 Axes>"
      ]
     },
     "metadata": {
      "needs_background": "light"
     },
     "output_type": "display_data"
    }
   ],
   "source": [
    "fig, ax = plt.subplots()\n",
    "fig.set_figheight(1.5)\n",
    "\n",
    "keys = list(syscall_archs.keys())\n",
    "common_vals = [x[\"common\"] for x in syscall_archs.values()]\n",
    "unique_vals = [x[\"unique\"] for x in syscall_archs.values()]\n",
    "\n",
    "colors = [\"green\", \"orange\"]\n",
    "labels = [\"common\", \"arch-specific\"]\n",
    "lefts = [0, 0, 0]\n",
    "b = []\n",
    "for bars, col, label in zip([common_vals, unique_vals], colors, labels):\n",
    "    print(keys, bars, col, lefts, label)\n",
    "    b = ax.barh(keys, bars, left=lefts, color=col, height=0.6, label=label)\n",
    "    lefts = [lefts[i] + bars[i] for i in range(len(common_vals))]\n",
    "\n",
    "ax.set_xlim(right=550)\n",
    "ax.spines['top'].set_visible(False)\n",
    "ax.spines['bottom'].set_visible(False)\n",
    "ax.spines['right'].set_visible(False)\n",
    "ax.xaxis.grid(linestyle='dashed')\n",
    "ax.legend(title=\"Syscall Implementation\", loc=\"upper right\")"
   ]
  },
  {
   "cell_type": "code",
   "execution_count": 6,
   "id": "8f0a0245",
   "metadata": {},
   "outputs": [],
   "source": [
    "fig.savefig(\"figures/syscall_archs\", dpi=600, bbox_inches='tight')"
   ]
  },
  {
   "cell_type": "markdown",
   "id": "ea3a827a",
   "metadata": {},
   "source": [
    "# Syscall Diagnostics"
   ]
  },
  {
   "cell_type": "code",
   "execution_count": 19,
   "id": "57ba0b91",
   "metadata": {
    "scrolled": false
   },
   "outputs": [
    {
     "name": "stdout",
     "output_type": "stream",
     "text": [
      "Num bins: 8\n",
      "Num syscalls: 103\n"
     ]
    }
   ],
   "source": [
    "def parse_strace_summary(filename):\n",
    "    syscalls = {}\n",
    "\n",
    "    with open(filename, 'r') as file:\n",
    "        lines = file.readlines()\n",
    "\n",
    "        for line in lines[2:-2]:  # Skipping the headers\n",
    "            parts = line.split()\n",
    "            if len(parts) < 5:\n",
    "                continue\n",
    "            \n",
    "            # Check if the 'errors' column is populated\n",
    "            if parts[4].isdigit():\n",
    "                syscall = parts[5]\n",
    "            else:\n",
    "                syscall = parts[4]\n",
    "                \n",
    "            calls = math.log(int(parts[3]))\n",
    "            syscalls[syscall] = calls\n",
    "\n",
    "    return syscalls\n",
    "\n",
    "# Testing the function\n",
    "sp_path = Path(\"syscall_profiles/\")\n",
    "\n",
    "sp_dict = {file.name.split('.')[0]: parse_strace_summary(file) for file in sp_path.iterdir()}\n",
    "\n",
    "total_sp = {}\n",
    "print(f\"Num bins: {len(sp_dict)}\")\n",
    "for v in sp_dict.values():\n",
    "    for sc, ct in v.items():\n",
    "        if sc not in total_sp:\n",
    "            total_sp[sc] = ct\n",
    "        else:\n",
    "            total_sp[sc] += ct\n",
    "print(f\"Num syscalls: {len(total_sp)}\")\n",
    "# Total sp: syscall_freq\n",
    "#66\n",
    "#66\n",
    "#68\n",
    "#68\n",
    "#71\n",
    "#74\n",
    "#94\n",
    "#98"
   ]
  },
  {
   "cell_type": "code",
   "execution_count": 20,
   "id": "6fd97c9c",
   "metadata": {},
   "outputs": [],
   "source": [
    "## Parse file to get syscall NRs index dict\n",
    "##  sysidx_dict: Map SC to number\n",
    "##  syscall_names: Map number to SC\n",
    "##  call_freq_scale: Sorted by aggregate\n",
    "#syscall_names = [None] * 500\n",
    "#with open(\"meta/syscall_list.nr\", \"r\") as f:\n",
    "#    pattern = re.compile(r\"__NR_(\\S*)\\s+(\\d+)\")\n",
    "#    matches = [pattern.search(line) for line in f.readlines()]\n",
    "#    sysidx_dict = {match.group(1): int(match.group(2)) for match in matches}\n",
    "#    for k, v in sysidx_dict.items():\n",
    "#        syscall_names[v] = k\n",
    "#        \n",
    "#call_freq_scale = sorted(sysidx_dict, key=sysidx_dict.get)\n",
    "#print(call_freq_scale)"
   ]
  },
  {
   "cell_type": "code",
   "execution_count": 21,
   "id": "892952bc",
   "metadata": {},
   "outputs": [
    {
     "name": "stdout",
     "output_type": "stream",
     "text": [
      "{'read': 51.07115933482176, 'write': 50.09002858515962, 'clock_nanosleep': 41.634824384691996, 'mmap': 41.01007654308474, 'openat': 39.73277585463864, 'close': 37.52859639108411, 'fstat': 33.094485381864686, 'mprotect': 32.93449936717178, 'pread64': 31.28034959591348, 'brk': 28.60251502590333, 'lseek': 28.513352507074096, 'rt_sigaction': 27.750838573033537, 'stat': 25.571087842084218, 'futex': 22.372733135469677, 'rt_sigprocmask': 21.882445861107076, 'getpid': 21.22110562047879, 'writev': 20.754382919583797, 'munmap': 20.56729760236678, 'fcntl': 20.499395621675887, 'access': 20.099865090273937, 'recvfrom': 18.094041936302055, 'getuid': 18.05965348527477, 'geteuid': 17.874808136892227, 'arch_prctl': 17.861323482596067, 'poll': 17.809216660276206, 'getrusage': 17.727267928114493, 'getegid': 17.715881946171944, 'getgid': 17.715881946171944, 'lstat': 16.997842723171782, 'ioctl': 16.095375491802045, 'clone': 15.619698473099254, 'set_robust_list': 15.275155747534061, 'prlimit64': 14.27136708722789, 'execve': 13.575658188586802, 'dup2': 12.6482553365735, 'wait4': 11.956328412418785, 'sched_yield': 10.755239763272712, 'sysinfo': 10.722033142490407, 'getppid': 10.108548596299572, 'pipe2': 9.490242257109001, 'rt_sigreturn': 8.9680140012452, 'mremap': 8.847934753328465, 'getpgrp': 8.470939806898775, 'socket': 8.265650165580329, 'sendmsg': 8.227909837597483, 'connect': 8.147867129923945, 'getdents64': 8.11969625295725, 'newfstatat': 8.047189562170502, 'madvise': 7.962415680121064, 'unlink': 7.796057974316123, 'uname': 7.780720886117918, 'getcwd': 7.49886973397693, 'set_tid_address': 7.272398392570047, 'pipe': 7.146772179452637, 'select': 6.956545443151569, 'clock_gettime': 6.8966943316227125, 'epoll_wait': 6.555356891810665, 'readlink': 5.869296913133774, 'vfork': 5.783825182329737, 'chdir': 5.2574953720277815, 'sched_getaffinity': 4.718498871295094, 'epoll_ctl': 4.584967478670572, 'statfs': 4.330733340286331, 'alarm': 4.02535169073515, 'umask': 3.9512437185814275, 'gettid': 3.931825632724326, 'faccessat': 3.871201010907891, 'unlinkat': 3.871201010907891, 'fadvise64': 3.367295829986474, 'setsockopt': 3.295836866004329, 'chmod': 3.258096538021482, 'getxattr': 2.9444389791664403, 'get_mempolicy': 2.772588722239781, 'set_mempolicy': 2.772588722239781, 'epoll_create1': 2.70805020110221, 'getsockname': 2.70805020110221, 'eventfd2': 2.4849066497880004, 'getpeername': 2.4849066497880004, 'accept4': 2.4849066497880004, 'getrandom': 2.3978952727983707, 'lgetxattr': 2.302585092994046, 'recvmsg': 2.1972245773362196, 'bind': 2.1972245773362196, 'fchown': 2.0794415416798357, 'fchmod': 2.0794415416798357, 'utime': 2.0794415416798357, 'sigaltstack': 1.9459101490553132, 'utimensat': 1.9459101490553132, 'listen': 1.791759469228055, 'dup': 1.6094379124341003, 'kill': 1.3862943611198906, 'rename': 1.3862943611198906, 'rseq': 1.3862943611198906, 'tgkill': 1.0986122886681098, 'sendto': 1.0986122886681098, 'clone3': 1.0986122886681098, 'restart_syscall': 0.6931471805599453, 'getgroups': 0.6931471805599453, 'setsid': 0.0, 'sendmmsg': 0.0, 'prctl': 0.0, 'shutdown': 0.0, 'getsockopt': 0.0}\n"
     ]
    }
   ],
   "source": [
    "#print(total_sp)\n",
    "sorted_total_sp = {k: v for k, v in sorted(total_sp.items(), key=lambda item: item[1])[::-1]}\n",
    "print(sorted_total_sp)"
   ]
  },
  {
   "cell_type": "code",
   "execution_count": 22,
   "id": "d08c9e58",
   "metadata": {},
   "outputs": [
    {
     "name": "stdout",
     "output_type": "stream",
     "text": [
      "['read', 'write', 'clock_nanosleep', 'mmap', 'openat', 'close', 'fstat', 'mprotect', 'pread64', 'brk', 'lseek', 'rt_sigaction', 'stat', 'futex', 'rt_sigprocmask', 'getpid', 'writev', 'munmap', 'fcntl', 'access', 'recvfrom', 'getuid', 'geteuid', 'arch_prctl', 'poll', 'getrusage', 'getegid', 'getgid', 'lstat', 'ioctl', 'clone', 'set_robust_list', 'prlimit64', 'execve', 'dup2', 'wait4', 'sched_yield', 'sysinfo', 'getppid', 'pipe2', 'rt_sigreturn', 'mremap', 'getpgrp', 'socket', 'sendmsg', 'connect', 'getdents64', 'newfstatat', 'madvise', 'unlink', 'uname', 'getcwd', 'set_tid_address', 'pipe', 'select', 'clock_gettime', 'epoll_wait', 'readlink', 'vfork', 'chdir', 'sched_getaffinity', 'epoll_ctl', 'statfs', 'alarm', 'umask', 'gettid', 'faccessat', 'unlinkat', 'fadvise64', 'setsockopt', 'chmod', 'getxattr', 'get_mempolicy', 'set_mempolicy', 'epoll_create1', 'getsockname', 'eventfd2', 'getpeername', 'accept4', 'getrandom', 'lgetxattr', 'recvmsg', 'bind', 'fchown', 'fchmod', 'utime', 'sigaltstack', 'utimensat', 'listen', 'dup', 'kill', 'rename', 'rseq', 'tgkill', 'sendto', 'clone3', 'restart_syscall', 'getgroups', 'setsid', 'sendmmsg', 'prctl', 'shutdown', 'getsockopt']\n"
     ]
    },
    {
     "data": {
      "image/png": "[encoded data removed]",
      "text/plain": [
       "<Figure size 576x360 with 4 Axes>"
      ]
     },
     "metadata": {},
     "output_type": "display_data"
    }
   ],
   "source": [
    "N = None\n",
    "\n",
    "def top_n(d):\n",
    "    return list(d)[:N]\n",
    "\n",
    "xscale = top_n(sorted_total_sp.keys())\n",
    "print(xscale)\n",
    "\n",
    "def plot_profile(lst, i, app_name):\n",
    "    vals = np.array(top_n(lst), dtype=float)\n",
    "    vals /= np.sum(vals)\n",
    "    p1 = ax[i].bar(xscale, vals, color='purple')\n",
    "    ax[i].set_xticks([])\n",
    "    ax[i].set_yticks([])\n",
    "    ax[i].set_ylabel(app_name.split('-')[0], fontsize='10')\n",
    "    \n",
    "\n",
    "apps = [\"bash\", \"memcached-testapp\", \"sqlite3\"] #\"paho-bench\"\n",
    "\n",
    "fig, ax = plt.subplots(1+len(apps), 1, figsize=(8, 5))\n",
    "\n",
    "# Total\n",
    "vals = np.array(top_n(sorted_total_sp.values()), dtype=float)\n",
    "vals /= np.sum(vals)\n",
    "p1 = ax[0].bar(xscale, vals)\n",
    "ax[0].set_xticks([])\n",
    "ax[0].set_yticks([])\n",
    "ax[0].set_ylabel(\"Aggregate\", fontsize='12')\n",
    "\n",
    "\n",
    "i = 1\n",
    "for app in apps:\n",
    "    sp_app = sp_dict[app]\n",
    "    sorted_sp = [sp_app[x] if x in sp_app else 0 for x in xscale]\n",
    "    plot_profile(sorted_sp, i, app)\n",
    "    i += 1\n",
    "\n",
    "#colors = [\"green\", \"orange\", \"red\"]\n",
    "#labels = [\"common\", \"mirror\", \"unique\"]\n",
    "#b = []\n",
    "#for bars, col, label in zip([common_vals, mirror_vals, unique_vals], colors, labels):\n",
    "#    b = ax.barh(keys, bars, left=lefts, color=col, height=0.6, label=label)\n",
    "#    lefts = [lefts[i] + bars[i] for i in range(len(common_vals))]\n",
    "#\n",
    "\n",
    "#ax.set_xlim(right=550)\n",
    "#ax.spines['top'].set_visible(False)\n",
    "#ax.spines['right'].set_visible(False)\n",
    "#ax.spines['bottom'].set_visible(False)\n",
    "#ax.xaxis.grid(linestyle='dashed')\n",
    "#ax.legend(title=\"Syscalls by Arch\", loc=\"upper right\")"
   ]
  },
  {
   "cell_type": "code",
   "execution_count": 23,
   "id": "16388a5b",
   "metadata": {},
   "outputs": [],
   "source": [
    "fig.savefig(\"figures/syscall_profile\", dpi=600, bbox_inches='tight')"
   ]
  },
  {
   "cell_type": "code",
   "execution_count": null,
   "id": "3ef41aa5",
   "metadata": {},
   "outputs": [],
   "source": []
  },
  {
   "cell_type": "markdown",
   "id": "434ce8bd",
   "metadata": {},
   "source": [
    "# WALI Microbenchmarks"
   ]
  },
  {
   "cell_type": "code",
   "execution_count": null,
   "id": "9fa041ca",
   "metadata": {},
   "outputs": [],
   "source": []
  }
 ],
 "metadata": {
  "kernelspec": {
   "display_name": "Python 3 (ipykernel)",
   "language": "python",
   "name": "python3"
  },
  "language_info": {
   "codemirror_mode": {
    "name": "ipython",
    "version": 3
   },
   "file_extension": ".py",
   "mimetype": "text/x-python",
   "name": "python",
   "nbconvert_exporter": "python",
   "pygments_lexer": "ipython3",
   "version": "3.8.10"
  }
 },
 "nbformat": 4,
 "nbformat_minor": 5
}
