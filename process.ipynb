{
 "cells": [
  {
   "cell_type": "code",
   "execution_count": 7,
   "id": "6b8029bf",
   "metadata": {},
   "outputs": [],
   "source": [
    "import numpy as np\n",
    "import matplotlib.pyplot as plt\n",
    "import sys\n",
    "import json"
   ]
  },
  {
   "cell_type": "markdown",
   "id": "d3e591f5",
   "metadata": {},
   "source": [
    "wali_arch_syscalls"
   ]
  },
  {
   "cell_type": "code",
   "execution_count": 8,
   "id": "1cf87304",
   "metadata": {},
   "outputs": [
    {
     "name": "stdout",
     "output_type": "stream",
     "text": [
      "{'x86_64': {'common': 362, 'mirror': 0, 'unique': 0}, 'aarch64': {'common': 306, 'mirror': 56, 'unique': 0}, 'rv64': {'common': 305, 'mirror': 57, 'unique': 2}}\n"
     ]
    }
   ],
   "source": [
    "num_x86_calls = 608 - 247 + 1\n",
    "\n",
    "undef_calls = {\n",
    "    \"aarch64\": 56,\n",
    "    \"rv64\": 57\n",
    "}\n",
    "\n",
    "unique_calls = {\n",
    "    \"aarch64\": 0,\n",
    "    \"rv64\": 2\n",
    "}\n",
    "\n",
    "archs = [\"aarch64\", \"rv64\"]\n",
    "\n",
    "syscall_archs = {\n",
    "    \"x86_64\": {\n",
    "        \"common\": num_x86_calls,\n",
    "        \"mirror\": 0,\n",
    "        \"unique\": 0\n",
    "    }\n",
    "}\n",
    "\n",
    "for arch in archs:\n",
    "    syscall_archs[arch] = {\n",
    "        \"common\": num_x86_calls - undef_calls[arch],\n",
    "        \"mirror\": undef_calls[arch],\n",
    "        \"unique\": unique_calls[arch]\n",
    "    }\n",
    "print(syscall_archs)"
   ]
  },
  {
   "cell_type": "code",
   "execution_count": 95,
   "id": "4a66de9d",
   "metadata": {},
   "outputs": [
    {
     "data": {
      "text/plain": [
       "<matplotlib.legend.Legend at 0x7f5a3bf1c910>"
      ]
     },
     "execution_count": 95,
     "metadata": {},
     "output_type": "execute_result"
    },
    {
     "data": {
      "image/png": "[encoded data removed]",
      "text/plain": [
       "<Figure size 432x108 with 1 Axes>"
      ]
     },
     "metadata": {
      "needs_background": "light"
     },
     "output_type": "display_data"
    }
   ],
   "source": [
    "fig, ax = plt.subplots()\n",
    "fig.set_figheight(1.5)\n",
    "\n",
    "keys = list(syscall_archs.keys())[::-1]\n",
    "common_vals = [x[\"common\"] for x in syscall_archs.values()][::-1]\n",
    "mirror_vals = [x[\"mirror\"] for x in syscall_archs.values()][::-1]\n",
    "unique_vals = [x[\"unique\"] for x in syscall_archs.values()][::-1]\n",
    "cm_vals = [mirror_vals[i] + common_vals[i] for i in range(len(common_vals))]\n",
    "\n",
    "\n",
    "colors = [\"green\", \"orange\", \"red\"]\n",
    "labels = [\"common\", \"mirror\", \"unique\"]\n",
    "lefts = [0, 0, 0]\n",
    "b = []\n",
    "for bars, col, label in zip([common_vals, mirror_vals, unique_vals], colors, labels):\n",
    "    b = ax.barh(keys, bars, left=lefts, color=col, height=0.6, label=label)\n",
    "    lefts = [lefts[i] + bars[i] for i in range(len(common_vals))]\n",
    "\n",
    "ax.set_xlim(right=550)\n",
    "ax.spines['top'].set_visible(False)\n",
    "ax.spines['bottom'].set_visible(False)\n",
    "ax.spines['right'].set_visible(False)\n",
    "ax.xaxis.grid(linestyle='dashed')\n",
    "ax.legend(title=\"Syscalls by Arch\", loc=\"upper right\")"
   ]
  },
  {
   "cell_type": "code",
   "execution_count": 99,
   "id": "8f0a0245",
   "metadata": {},
   "outputs": [],
   "source": [
    "fig.savefig(\"figures/syscall_archs\", dpi=600, bbox_inches='tight')"
   ]
  },
  {
   "cell_type": "code",
   "execution_count": null,
   "id": "2db3bfdf",
   "metadata": {},
   "outputs": [],
   "source": []
  }
 ],
 "metadata": {
  "kernelspec": {
   "display_name": "Python 3 (ipykernel)",
   "language": "python",
   "name": "python3"
  },
  "language_info": {
   "codemirror_mode": {
    "name": "ipython",
    "version": 3
   },
   "file_extension": ".py",
   "mimetype": "text/x-python",
   "name": "python",
   "nbconvert_exporter": "python",
   "pygments_lexer": "ipython3",
   "version": "3.8.10"
  }
 },
 "nbformat": 4,
 "nbformat_minor": 5
}
