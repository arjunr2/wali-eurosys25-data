{
 "cells": [
  {
   "cell_type": "code",
   "execution_count": 1,
   "id": "6b8029bf",
   "metadata": {},
   "outputs": [],
   "source": [
    "import numpy as np\n",
    "import matplotlib.pyplot as plt\n",
    "import sys\n",
    "import math\n",
    "from tabulate import tabulate\n",
    "from pathlib import Path\n",
    "from collections import Counter\n",
    "import re\n",
    "import json"
   ]
  },
  {
   "cell_type": "markdown",
   "id": "d3e591f5",
   "metadata": {},
   "source": [
    "# Syscall By Arch"
   ]
  },
  {
   "cell_type": "code",
   "execution_count": null,
   "id": "1cf87304",
   "metadata": {},
   "outputs": [],
   "source": [
    "num_x86_calls = 608 - 247 + 1\n",
    "\n",
    "unique_calls = {\n",
    "    \"x86_64\": 56,\n",
    "    \"aarch64\": 0,\n",
    "    \"rv64\": 2\n",
    "}\n",
    "\n",
    "common_calls = num_x86_calls - unique_calls[\"x86_64\"]\n",
    "\n",
    "archs = [\"x86_64\", \"rv64\", \"aarch64\"]\n",
    "\n",
    "syscall_archs = {}\n",
    "\n",
    "for arch in archs:\n",
    "    syscall_archs[arch] = {\n",
    "        \"common\": common_calls,\n",
    "        \"unique\": unique_calls[arch]\n",
    "    }\n",
    "print(syscall_archs)"
   ]
  },
  {
   "cell_type": "code",
   "execution_count": null,
   "id": "4a66de9d",
   "metadata": {},
   "outputs": [],
   "source": [
    "fig, ax = plt.subplots()\n",
    "fig.set_figheight(1.5)\n",
    "\n",
    "keys = list(syscall_archs.keys())\n",
    "common_vals = [x[\"common\"] for x in syscall_archs.values()]\n",
    "unique_vals = [x[\"unique\"] for x in syscall_archs.values()]\n",
    "\n",
    "colors = [\"green\", \"orange\"]\n",
    "labels = [\"common\", \"arch-specific\"]\n",
    "lefts = [0, 0, 0]\n",
    "b = []\n",
    "for bars, col, label in zip([common_vals, unique_vals], colors, labels):\n",
    "    print(keys, bars, col, lefts, label)\n",
    "    b = ax.barh(keys, bars, left=lefts, color=col, height=0.6, label=label)\n",
    "    lefts = [lefts[i] + bars[i] for i in range(len(common_vals))]\n",
    "\n",
    "ax.set_xlim(right=550)\n",
    "ax.spines['top'].set_visible(False)\n",
    "ax.spines['bottom'].set_visible(False)\n",
    "ax.spines['right'].set_visible(False)\n",
    "ax.xaxis.grid(linestyle='dashed')\n",
    "ax.legend(title=\"Syscall Implementation\", loc=\"upper right\")"
   ]
  },
  {
   "cell_type": "code",
   "execution_count": null,
   "id": "8f0a0245",
   "metadata": {},
   "outputs": [],
   "source": [
    "fig.savefig(\"figures/syscall_archs\", dpi=600, bbox_inches='tight')"
   ]
  },
  {
   "cell_type": "markdown",
   "id": "ea3a827a",
   "metadata": {},
   "source": [
    "# Syscall Diagnostics"
   ]
  },
  {
   "cell_type": "code",
   "execution_count": null,
   "id": "57ba0b91",
   "metadata": {
    "scrolled": false
   },
   "outputs": [],
   "source": [
    "def parse_strace_summary(filename):\n",
    "    syscalls = {}\n",
    "\n",
    "    with open(filename, 'r') as file:\n",
    "        lines = file.readlines()\n",
    "\n",
    "        for line in lines[2:-2]:  # Skipping the headers\n",
    "            parts = line.split()\n",
    "            if len(parts) < 5:\n",
    "                continue\n",
    "            \n",
    "            # Check if the 'errors' column is populated\n",
    "            if parts[4].isdigit():\n",
    "                syscall = parts[5]\n",
    "            else:\n",
    "                syscall = parts[4]\n",
    "                \n",
    "            calls = math.log(int(parts[3]))\n",
    "            syscalls[syscall] = calls\n",
    "\n",
    "    return syscalls\n",
    "\n",
    "# Testing the function\n",
    "sp_path = Path(\"syscall_profiles/\")\n",
    "\n",
    "sp_dict = {file.name.split('.')[0]: parse_strace_summary(file) for file in sp_path.iterdir()}\n",
    "\n",
    "total_sp = {}\n",
    "print(f\"Num bins: {len(sp_dict)}\")\n",
    "for k, v in sp_dict.items():\n",
    "    for sc, ct in v.items():\n",
    "        if sc not in total_sp:\n",
    "            total_sp[sc] = ct\n",
    "        else:\n",
    "            total_sp[sc] += ct\n",
    "        if sc == \"prlimit64\":\n",
    "            print(k)\n",
    "print(f\"Num syscalls: {len(total_sp)}\")\n",
    "# Total sp: syscall_freq\n"
   ]
  },
  {
   "cell_type": "code",
   "execution_count": null,
   "id": "a0ba28b4",
   "metadata": {},
   "outputs": [],
   "source": [
    "#print(total_sp)\n",
    "sorted_total_sp = {k: v for k, v in sorted(total_sp.items(), key=lambda item: item[1])[::-1]}\n",
    "print(sorted_total_sp)"
   ]
  },
  {
   "cell_type": "code",
   "execution_count": null,
   "id": "fdafeb34",
   "metadata": {},
   "outputs": [],
   "source": [
    "N = None\n",
    "\n",
    "def top_n(d):\n",
    "    return list(d)[:N]\n",
    "\n",
    "xscale = top_n(sorted_total_sp.keys())\n",
    "print(xscale)\n",
    "\n",
    "def plot_profile(lst, i, app_name):\n",
    "    vals = np.array(top_n(lst), dtype=float)\n",
    "    vals /= np.sum(vals)\n",
    "    p1 = ax[i].bar(xscale, vals, color='purple')\n",
    "    ax[i].set_xticks([])\n",
    "    ax[i].set_yticks([])\n",
    "    ax[i].set_ylabel(app_name.split('-')[0], fontsize='10')\n",
    "    \n",
    "\n",
    "apps = [\"bash\", \"memcached-testapp\", \"sqlite3\"] #\"paho-bench\"\n",
    "\n",
    "fig, ax = plt.subplots(1+len(apps), 1, figsize=(8, 5))\n",
    "\n",
    "# Total\n",
    "vals = np.array(top_n(sorted_total_sp.values()), dtype=float)\n",
    "vals /= np.sum(vals)\n",
    "p1 = ax[0].bar(xscale, vals)\n",
    "ax[0].set_xticks([])\n",
    "ax[0].set_yticks([])\n",
    "ax[0].set_ylabel(\"Aggregate\", fontsize='12')\n",
    "\n",
    "\n",
    "i = 1\n",
    "for app in apps:\n",
    "    sp_app = sp_dict[app]\n",
    "    sorted_sp = [sp_app[x] if x in sp_app else 0 for x in xscale]\n",
    "    plot_profile(sorted_sp, i, app)\n",
    "    i += 1\n"
   ]
  },
  {
   "cell_type": "code",
   "execution_count": null,
   "id": "8f2b0166",
   "metadata": {},
   "outputs": [],
   "source": [
    "fig.savefig(\"figures/syscall_profile\", dpi=600, bbox_inches='tight')"
   ]
  },
  {
   "cell_type": "code",
   "execution_count": null,
   "id": "1a9d6ee7",
   "metadata": {},
   "outputs": [],
   "source": []
  },
  {
   "cell_type": "markdown",
   "id": "c519c229",
   "metadata": {},
   "source": [
    "# WALI Microbenchmarks"
   ]
  },
  {
   "cell_type": "code",
   "execution_count": null,
   "id": "f1d6b997",
   "metadata": {},
   "outputs": [],
   "source": [
    "# Parse file to get syscall NRs index dict\\n\",\n",
    "#  sysidx_dict: Map SC to number\\n\",\n",
    "#  syscall_names: Map number to SC\\n\",\n",
    "#  call_freq_scale: Sorted by aggregate\\n\",\n",
    "syscall_names = [None] * 500\n",
    "with open(\"meta/syscall_list.nr\", \"r\") as f:\n",
    "    pattern = re.compile(r\"__NR_(\\S*)\\s+(\\d+)\")\n",
    "    matches = [pattern.search(line) for line in f.readlines()]\n",
    "    sysidx_dict = {match.group(1): int(match.group(2)) for match in matches}\n",
    "    for k, v in sysidx_dict.items():\n",
    "        print(v)\n",
    "        syscall_names[v] = k\n",
    "\n",
    "call_freq_scale = sorted(sysidx_dict, key=sysidx_dict.get)\n",
    "print(sysidx_dict)\n"
   ]
  },
  {
   "cell_type": "code",
   "execution_count": null,
   "id": "4d2ff56b",
   "metadata": {},
   "outputs": [],
   "source": [
    "micro_path = Path(\"microbenchmarks\")\n",
    "nprof_path = micro_path / \"native_profiles\"\n",
    "\n",
    "def profile_dict(profile_file):\n",
    "    with open(profile_file) as f:\n",
    "        list_stats = f.read().split(',')\n",
    "        fields = [\"count\", \"native\", \"virtual\"]\n",
    "        feats = [dict(zip(fields, [int(x) for x in re.search(\"(\\d*):(\\d*)/(\\d*)\", elem).groups()])) for elem in list_stats]\n",
    "        for i, ft in enumerate(feats):\n",
    "            final_dict = {syscall_names[i]: ft for i, ft in enumerate(feats)}\n",
    "            for k, v in final_dict.items():\n",
    "                final_dict[k][\"overhead\"] = final_dict[k][\"virtual\"] - final_dict[k][\"native\"]\n",
    "            return final_dict\n",
    "\n",
    "ndict_all = {pt.name.split('.')[0]: profile_dict(pt) for pt in nprof_path.iterdir()}\n",
    "\n",
    "ndict_comp = {}\n",
    "\n",
    "for sc in syscall_names:\n",
    "    sc_fts = [v[sc] for v in ndict_all.values()]\n",
    "    ov = 0\n",
    "    ct = 0\n",
    "    if sc == 'fork':\n",
    "        print(sc_fts)\n",
    "    for ft in sc_fts:\n",
    "        ov += int(ft['overhead']) * int(ft['count'])\n",
    "        ct += int(ft['count'])\n",
    "    ndict_comp[sc] = int(ov / ct) if ct else 0\n",
    "\n",
    "#for nd in ndict_all.values():\n",
    "#    for k, v in nd.items():\n",
    "#        if k in ndict_comp:\n",
    "#            ndict_comp[k] += v[\"count\"] * v[\"overhead\"]\n",
    "#        else:\n",
    "#            ndict_comp[k] = v[\"count\"] * v[\"overhead\"]\n",
    "#print(ndict_all)"
   ]
  },
  {
   "cell_type": "code",
   "execution_count": null,
   "id": "279d9dde",
   "metadata": {},
   "outputs": [],
   "source": [
    "#for k, v in final_dict.items():\n",
    "print (\"{:<20} {:<10} {:<15} {:<15} {:<10}\".format('Syscall', 'Count', 'Native (ns)', 'Virtual (ns)', 'Overhead (ns)'))\n",
    "#for k, v in sorted(ndict.items(), key=lambda x: x[1][\"overhead\"], reverse=True):\n",
    "x = 35\n",
    "topx_dict = {k: ndict_all[\"memcached2\"][k] for k in xscale[:x]}\n",
    "for k, v in topx_dict.items():\n",
    "    print (\"{:<20} {:<10} {:<15} {:<15} {:<10}\".format(k, v[\"count\"], v[\"native\"], v[\"virtual\"], v[\"virtual\"] - v[\"native\"]))"
   ]
  },
  {
   "cell_type": "code",
   "execution_count": null,
   "id": "bbd605db",
   "metadata": {},
   "outputs": [],
   "source": [
    "#for k, v in final_dict.items():\n",
    "print (\"{:<20} {:<10}\".format('Syscall', 'Overhead (ns)'))\n",
    "#for k, v in sorted(ndict.items(), key=lambda x: x[1][\"overhead\"], reverse=True):\n",
    "x = 35\n",
    "rm_list = ['clock_nanosleep', 'brk', 'arch_prctl', 'set_robust_list', 'dup2', 'openat', 'execve']\n",
    "add_list = ['open', 'fork']\n",
    "\n",
    "micro_xscale = [i for i in xscale[:x] if i not in rm_list]\n",
    "micro_xscale.insert(3, 'open')\n",
    "micro_xscale.append('fork')\n",
    "\n",
    "topx_dict = {k: ndict_comp[k] for k in micro_xscale[:x]}\n",
    "for k, v in topx_dict.items():\n",
    "    print (\"{:<20} {:<10}\".format(k, v))"
   ]
  },
  {
   "cell_type": "code",
   "execution_count": null,
   "id": "8d4e33a9",
   "metadata": {},
   "outputs": [],
   "source": [
    "for sc, ov in topx_dict.items():\n",
    "    print(f\"    {sc} & {ov} & ---\\\\\\\\\")\n",
    "    print(\"    \\hline\")"
   ]
  },
  {
   "cell_type": "markdown",
   "id": "aa0905dd",
   "metadata": {},
   "source": [
    "# Overhead"
   ]
  },
  {
   "cell_type": "code",
   "execution_count": 24,
   "id": "f0b59a47",
   "metadata": {},
   "outputs": [],
   "source": [
    "overheads = {\n",
    "    \"lua\": {\n",
    "        \"exec\": 1212590589,\n",
    "        \"native\": 28864706,\n",
    "        \"wali\":    1253915\n",
    "    },\n",
    "    \n",
    "    \"bash\": {\n",
    "        \"exec\":   567840904,\n",
    "        \"native\": 134039941,\n",
    "        \"wali\":   6096545\n",
    "    },\n",
    "    \n",
    "    \"sqlite3\": {\n",
    "        \"exec\":   295207080,\n",
    "        \"native\": 163690152,\n",
    "        \"wali\":     2339408\n",
    "    },\n",
    "    \n",
    "    \"paho-bench\": {\n",
    "        \"exec\":    1276177263,\n",
    "        \"native\":    23496869,\n",
    "        \"wali\":       6967199\n",
    "    },\n",
    "    \n",
    "    \n",
    "    #\"memcached\": {\n",
    "    #    \"exec\":    5036729742,\n",
    "    #    \"native\":   567234459,\n",
    "    #    \"wali\":     136861725\n",
    "    #},\n",
    "    \"memcached\": {\n",
    "        \"exec\":    2016941474,\n",
    "        \"native\":   208279822,\n",
    "        \"wali\":     48599042\n",
    "    },\n",
    "    #\"memcached\": {\n",
    "    #    \"exec\":    3008550387,\n",
    "    #    \"native\":   305861100,\n",
    "    #    \"wali\":     71271178\n",
    "    #},\n",
    "    \n",
    "}\n",
    "\n"
   ]
  },
  {
   "cell_type": "code",
   "execution_count": 84,
   "id": "2ab7aa74",
   "metadata": {},
   "outputs": [
    {
     "name": "stdout",
     "output_type": "stream",
     "text": [
      "1.212590589\n",
      "0.567840904\n",
      "0.29520708\n",
      "1.276177263\n",
      "2.016941474\n"
     ]
    },
    {
     "data": {
      "text/plain": [
       "Text(0, 0.5, 'Exec Time (s)')"
      ]
     },
     "execution_count": 84,
     "metadata": {},
     "output_type": "execute_result"
    },
    {
     "data": {
      "image/png": "[encoded data removed]",
      "text/plain": [
       "<Figure size 432x108 with 1 Axes>"
      ]
     },
     "metadata": {
      "needs_background": "light"
     },
     "output_type": "display_data"
    }
   ],
   "source": [
    "fig, ax = plt.subplots(1, figsize=(6, 1.5))\n",
    "\n",
    "keys = list(overheads.keys())\n",
    "\n",
    "app_arr = []\n",
    "native_arr = []\n",
    "wali_arr = []\n",
    "exec_arr = []\n",
    "\n",
    "for k, v in overheads.items():\n",
    "    exec_arr.append(v[\"exec\"])\n",
    "    app_arr.append(v[\"exec\"] - v[\"native\"] - v[\"wali\"])\n",
    "    native_arr.append(v[\"native\"])\n",
    "    wali_arr.append(v[\"wali\"])\n",
    "    \n",
    "exec_arr = np.array(exec_arr) / 1e9\n",
    "app_arr = np.array(app_arr) / 1e9\n",
    "native_arr = np.array(native_arr) / 1e9\n",
    "wali_arr = np.array(wali_arr) / 1e9\n",
    "\n",
    "colors = [\"C0\", \"orange\", \"green\"]\n",
    "labels = [\"wasm-app\", \"sys\", \"wali\"]\n",
    "bottoms = [0, 0, 0, 0, 0]\n",
    "b = []\n",
    "for bars, col, label in zip([app_arr, native_arr, wali_arr], colors, labels):\n",
    "    #print(keys, bars, col, bottoms, label)\n",
    "    b = ax.bar(keys, bars, bottom=bottoms, color=col, width=0.6, label=label)\n",
    "    bottoms = [bottoms[i] + bars[i] for i in range(len(app_arr))]\n",
    "\n",
    "tp = np.array(list(zip(app_arr, native_arr, wali_arr))) / np.expand_dims(exec_arr, axis=1)\n",
    "tp *= 100\n",
    "    \n",
    "font1 = {'size':8}\n",
    "for i in range(len(app_arr)):\n",
    "    print(exec_arr[i])\n",
    "    ax.text(i, bottoms[i] + 0.1, f\"{round(tp[i][0],1), round(tp[i][1],1), round(tp[i][2],1)}\", \\\n",
    "            ha='center', fontdict=font1)\n",
    "    \n",
    "ax.spines['top'].set_visible(False)\n",
    "ax.spines['right'].set_visible(False)\n",
    "#ax.xaxis.grid(linestyle='dashed')\n",
    "ax.legend(loc=\"upper left\", ncols=3, fontsize=9)\n",
    "ax.set_ylabel(\"Exec Time (s)\")"
   ]
  },
  {
   "cell_type": "code",
   "execution_count": 85,
   "id": "ddf7ca3d",
   "metadata": {},
   "outputs": [],
   "source": [
    "fig.savefig(\"figures/macrobench_time\", dpi=600, bbox_inches='tight')"
   ]
  },
  {
   "cell_type": "code",
   "execution_count": null,
   "id": "c21625ea",
   "metadata": {},
   "outputs": [],
   "source": []
  }
 ],
 "metadata": {
  "kernelspec": {
   "display_name": "Python 3 (ipykernel)",
   "language": "python",
   "name": "python3"
  },
  "language_info": {
   "codemirror_mode": {
    "name": "ipython",
    "version": 3
   },
   "file_extension": ".py",
   "mimetype": "text/x-python",
   "name": "python",
   "nbconvert_exporter": "python",
   "pygments_lexer": "ipython3",
   "version": "3.8.10"
  }
 },
 "nbformat": 4,
 "nbformat_minor": 5
}
