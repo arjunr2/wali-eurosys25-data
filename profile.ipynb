{
 "cells": [
  {
   "cell_type": "code",
   "execution_count": 1,
   "metadata": {},
   "outputs": [],
   "source": [
    "import numpy as np\n",
    "import matplotlib.pyplot as plt\n",
    "import math\n",
    "from pathlib import Path"
   ]
  },
  {
   "cell_type": "code",
   "execution_count": 3,
   "metadata": {},
   "outputs": [
    {
     "name": "stdout",
     "output_type": "stream",
     "text": [
      "Num bins: 8\n",
      "paho-bench\n",
      "bash\n",
      "sysbench\n",
      "pbbs\n",
      "runtime\n",
      "sqlite3\n",
      "memcached-testapp\n",
      "Num syscalls: 103\n"
     ]
    }
   ],
   "source": [
    "def parse_strace_summary(filename):\n",
    "    syscalls = {}\n",
    "\n",
    "    with open(filename, 'r') as file:\n",
    "        lines = file.readlines()\n",
    "\n",
    "        for line in lines[2:-2]:  # Skipping the headers\n",
    "            parts = line.split()\n",
    "            if len(parts) < 5:\n",
    "                continue\n",
    "            \n",
    "            # Check if the 'errors' column is populated\n",
    "            if parts[4].isdigit():\n",
    "                syscall = parts[5]\n",
    "            else:\n",
    "                syscall = parts[4]\n",
    "                \n",
    "            calls = math.log(int(parts[3]))\n",
    "            syscalls[syscall] = calls\n",
    "\n",
    "    return syscalls\n",
    "\n",
    "# Testing the function\n",
    "sp_path = Path(\"syscall_profiles/\")\n",
    "\n",
    "sp_dict = {\n",
    "    file.name.split('.')[0]: parse_strace_summary(file)\n",
    "    for file in sp_path.iterdir()}\n",
    "\n",
    "total_sp = {}\n",
    "print(f\"Num bins: {len(sp_dict)}\")\n",
    "for k, v in sp_dict.items():\n",
    "    for sc, ct in v.items():\n",
    "        if sc not in total_sp:\n",
    "            total_sp[sc] = ct\n",
    "        else:\n",
    "            total_sp[sc] += ct\n",
    "        if sc == \"prlimit64\":\n",
    "            print(k)\n",
    "print(f\"Num syscalls: {len(total_sp)}\")"
   ]
  },
  {
   "cell_type": "code",
   "execution_count": 4,
   "metadata": {},
   "outputs": [
    {
     "name": "stdout",
     "output_type": "stream",
     "text": [
      "{'read': 51.07115933482175, 'write': 50.09002858515963, 'clock_nanosleep': 41.634824384691996, 'mmap': 41.01007654308474, 'openat': 39.73277585463864, 'close': 37.52859639108411, 'fstat': 33.094485381864686, 'mprotect': 32.93449936717178, 'pread64': 31.28034959591348, 'brk': 28.602515025903326, 'lseek': 28.513352507074096, 'rt_sigaction': 27.750838573033537, 'stat': 25.571087842084218, 'futex': 22.372733135469677, 'rt_sigprocmask': 21.882445861107076, 'getpid': 21.221105620478788, 'writev': 20.754382919583797, 'munmap': 20.567297602366775, 'fcntl': 20.499395621675887, 'access': 20.099865090273937, 'recvfrom': 18.094041936302055, 'getuid': 18.05965348527477, 'geteuid': 17.874808136892227, 'arch_prctl': 17.861323482596067, 'poll': 17.809216660276206, 'getrusage': 17.727267928114493, 'getgid': 17.715881946171944, 'getegid': 17.715881946171944, 'lstat': 16.997842723171782, 'ioctl': 16.095375491802045, 'clone': 15.619698473099254, 'set_robust_list': 15.275155747534061, 'prlimit64': 14.27136708722789, 'execve': 13.575658188586802, 'dup2': 12.6482553365735, 'wait4': 11.956328412418785, 'sched_yield': 10.755239763272712, 'sysinfo': 10.722033142490407, 'getppid': 10.108548596299572, 'pipe2': 9.490242257109001, 'rt_sigreturn': 8.968014001245198, 'mremap': 8.847934753328465, 'getpgrp': 8.470939806898775, 'socket': 8.265650165580329, 'sendmsg': 8.227909837597483, 'connect': 8.147867129923947, 'getdents64': 8.11969625295725, 'newfstatat': 8.047189562170502, 'madvise': 7.962415680121064, 'unlink': 7.796057974316123, 'uname': 7.780720886117918, 'getcwd': 7.49886973397693, 'set_tid_address': 7.272398392570047, 'pipe': 7.146772179452637, 'select': 6.956545443151569, 'clock_gettime': 6.8966943316227125, 'epoll_wait': 6.555356891810665, 'readlink': 5.869296913133774, 'vfork': 5.783825182329737, 'chdir': 5.2574953720277815, 'sched_getaffinity': 4.718498871295094, 'epoll_ctl': 4.584967478670572, 'statfs': 4.330733340286331, 'alarm': 4.02535169073515, 'umask': 3.9512437185814275, 'gettid': 3.931825632724326, 'faccessat': 3.871201010907891, 'unlinkat': 3.871201010907891, 'fadvise64': 3.367295829986474, 'setsockopt': 3.295836866004329, 'chmod': 3.258096538021482, 'getxattr': 2.9444389791664403, 'get_mempolicy': 2.772588722239781, 'set_mempolicy': 2.772588722239781, 'epoll_create1': 2.70805020110221, 'getsockname': 2.70805020110221, 'eventfd2': 2.4849066497880004, 'getpeername': 2.4849066497880004, 'accept4': 2.4849066497880004, 'getrandom': 2.3978952727983707, 'lgetxattr': 2.302585092994046, 'recvmsg': 2.1972245773362196, 'bind': 2.1972245773362196, 'fchown': 2.0794415416798357, 'fchmod': 2.0794415416798357, 'utime': 2.0794415416798357, 'utimensat': 1.9459101490553132, 'sigaltstack': 1.9459101490553132, 'listen': 1.791759469228055, 'dup': 1.6094379124341003, 'kill': 1.3862943611198906, 'rename': 1.3862943611198906, 'rseq': 1.3862943611198906, 'tgkill': 1.0986122886681098, 'sendto': 1.0986122886681098, 'clone3': 1.0986122886681098, 'restart_syscall': 0.6931471805599453, 'getgroups': 0.6931471805599453, 'setsid': 0.0, 'sendmmsg': 0.0, 'prctl': 0.0, 'shutdown': 0.0, 'getsockopt': 0.0}\n"
     ]
    }
   ],
   "source": [
    "sorted_total_sp = {k: v for k, v in sorted(total_sp.items(), key=lambda item: item[1])[::-1]}\n",
    "print(sorted_total_sp)"
   ]
  },
  {
   "cell_type": "code",
   "execution_count": 75,
   "metadata": {},
   "outputs": [
    {
     "data": {
      "image/png": "[encoded data removed]",
      "text/plain": [
       "<Figure size 600x350 with 4 Axes>"
      ]
     },
     "metadata": {},
     "output_type": "display_data"
    }
   ],
   "source": [
    "N = None\n",
    "\n",
    "def top_n(d):\n",
    "    return list(d)[:N]\n",
    "\n",
    "xscale = top_n(sorted_total_sp.keys())\n",
    "\n",
    "def plot_profile(ax, lst):\n",
    "    vals = np.array(top_n(lst), dtype=float)\n",
    "    vals /= np.sum(vals)\n",
    "    p1 = ax.bar(xscale, vals, color='purple')\n",
    "    \n",
    "\n",
    "apps = {\n",
    "    \"bash\": \"bash\",\n",
    "    \"memcached-testapp\": \"memcached\",\n",
    "    \"sqlite3\": \"sqlite3\"\n",
    "}\n",
    "\n",
    "fig, axs = plt.subplots(1+len(apps), 1, figsize=(6, 3.5))\n",
    "\n",
    "# Total\n",
    "vals = np.array(top_n(sorted_total_sp.values()), dtype=float)\n",
    "vals /= np.sum(vals)\n",
    "p1 = axs[0].bar(xscale, vals)\n",
    "axs[0].text(\n",
    "    0.98, 0.8, \"Aggregate\", transform=axs[0].transAxes, ha='right', va='top',\n",
    "    backgroundcolor='white', fontsize=11)\n",
    "\n",
    "for ax, (app, desc) in zip(axs[1:], apps.items()):\n",
    "    sp_app = sp_dict[app]\n",
    "    sorted_sp = [sp_app[x] if x in sp_app else 0 for x in xscale]\n",
    "    plot_profile(ax, sorted_sp)\n",
    "    ax.text(\n",
    "        0.98, 0.8, desc, transform=ax.transAxes, ha='right', va='top',\n",
    "        backgroundcolor='white', fontsize=11)\n",
    "\n",
    "xticks = np.array([0, 20, 40, 60, 80, 100])\n",
    "for ax in axs:\n",
    "    ax.grid()\n",
    "    ax.set_yticks([])\n",
    "    ax.set_xlim(-2, 102)\n",
    "    ax.set_xticks(xticks - 0.5)\n",
    "for ax in axs[:-1]:\n",
    "    for tick in ax.xaxis.get_major_ticks():\n",
    "        tick.tick1line.set_visible(False)\n",
    "        tick.tick2line.set_visible(False)\n",
    "        tick.label1.set_visible(False)\n",
    "        tick.label2.set_visible(False)\n",
    "\n",
    "_ = axs[-1].set_xticklabels(xticks)\n",
    "fig.tight_layout(h_pad=0.5)\n",
    "\n",
    "axs[-1].set_ylabel(\n",
    "    \"Relative Frequency $\\longrightarrow$\", loc='bottom', fontsize=11)\n",
    "fig.savefig(\"figures/syscall_profile.pdf\", bbox_inches='tight')"
   ]
  }
 ],
 "metadata": {
  "kernelspec": {
   "display_name": "jax",
   "language": "python",
   "name": "python3"
  },
  "language_info": {
   "codemirror_mode": {
    "name": "ipython",
    "version": 3
   },
   "file_extension": ".py",
   "mimetype": "text/x-python",
   "name": "python",
   "nbconvert_exporter": "python",
   "pygments_lexer": "ipython3",
   "version": "3.11.5"
  }
 },
 "nbformat": 4,
 "nbformat_minor": 2
}
